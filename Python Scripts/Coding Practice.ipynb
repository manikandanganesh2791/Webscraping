{
 "cells": [
  {
   "cell_type": "code",
   "execution_count": 2,
   "metadata": {
    "collapsed": false
   },
   "outputs": [
    {
     "name": "stdout",
     "output_type": "stream",
     "text": [
      "xxcaazzxxbaaz\n",
      "None\n"
     ]
    }
   ],
   "source": [
    "def string_match(a, b):\n",
    "    sub_two = ''\n",
    "    x=set([])\n",
    "    for i in range(len(a)-1):\n",
    "        sub_two = a[i:i+1] + a[i+1:i+2]\n",
    "        x.add(sub_two)\n",
    "\n",
    "if __name__== \"__main__\":\n",
    "    a = 'xxcaazz'\n",
    "    b = 'xxbaaz'\n",
    "    print string_match(a,b)"
   ]
  },
  {
   "cell_type": "code",
   "execution_count": 7,
   "metadata": {
    "collapsed": false
   },
   "outputs": [
    {
     "data": {
      "text/plain": [
       "3"
      ]
     },
     "execution_count": 7,
     "metadata": {},
     "output_type": "execute_result"
    }
   ],
   "source": [
    "a = 'xxcaazz'\n",
    "b = 'xxbaaz'\n",
    "sub_two = ''\n",
    "x=set([])\n",
    "count = 0\n",
    "for i in range(len(a)-1):\n",
    "    sub_two = a[i:i+1] + a[i+1:i+2]\n",
    "    x.add(sub_two)\n",
    "for i in range(len(b)-1):\n",
    "    if b[i:i+1] + b[i+1:i+2] in x:\n",
    "        count = count + 1\n",
    "count"
   ]
  },
  {
   "cell_type": "code",
   "execution_count": 8,
   "metadata": {
    "collapsed": false
   },
   "outputs": [
    {
     "name": "stdout",
     "output_type": "stream",
     "text": [
      "{'blue': 'blau', 'green': 'gr\\xc3\\xbcn', 'yellow': 'gelb', 'red': 'rot'}\n",
      "rot\n",
      "The French word for red is: rouge\n"
     ]
    }
   ],
   "source": [
    "en_de = {\"red\" : \"rot\", \"green\" : \"grün\", \"blue\" : \"blau\", \"yellow\":\"gelb\"}\n",
    "print en_de\n",
    "print en_de[\"red\"]\n",
    "de_fr = {\"rot\" : \"rouge\", \"grün\" : \"vert\", \"blau\" : \"bleu\", \"gelb\":\"jaune\"}\n",
    "print \"The French word for red is: \" + de_fr[en_de[\"red\"]]"
   ]
  },
  {
   "cell_type": "code",
   "execution_count": 11,
   "metadata": {
    "collapsed": false
   },
   "outputs": [
    {
     "data": {
      "text/plain": [
       "[1, 2]"
      ]
     },
     "execution_count": 11,
     "metadata": {},
     "output_type": "execute_result"
    }
   ],
   "source": [
    "count_dict = {}\n",
    "nums = [1,1,1,2,2,3]\n",
    "result = []\n",
    "k = 2\n",
    "for i in nums:\n",
    "    if i in count_dict:\n",
    "        count_dict[i] = count_dict[i] + 1\n",
    "    else:\n",
    "        count_dict[i] = 1\n",
    "for key in count_dict.iterkeys():\n",
    "    if count_dict[key] >= k:\n",
    "        result.append(key)\n",
    "result"
   ]
  },
  {
   "cell_type": "code",
   "execution_count": 63,
   "metadata": {
    "collapsed": false
   },
   "outputs": [],
   "source": [
    "players = [[1,23,58,],[2,34,69,],[3,47,69,],[4,56,21,],[4,23,64]]\n",
    "players_dict = {}\n",
    "score = 0\n",
    "for i in players:\n",
    "    if i[1] in players_dict:\n",
    "        score = i[2] + players_dict[i[1]]\n",
    "        players_dict[i[1]] = score\n",
    "    else:\n",
    "        players_dict[i[1]] = i[2]"
   ]
  },
  {
   "cell_type": "code",
   "execution_count": 64,
   "metadata": {
    "collapsed": false
   },
   "outputs": [
    {
     "data": {
      "text/plain": [
       "[(56, 21), (34, 69), (47, 69), (23, 122)]"
      ]
     },
     "execution_count": 64,
     "metadata": {},
     "output_type": "execute_result"
    }
   ],
   "source": [
    "reverse_list = []\n",
    "for key in players_dict.iteritems():\n",
    "    reverse_list.append(key)\n",
    "reverse_list"
   ]
  },
  {
   "cell_type": "code",
   "execution_count": 65,
   "metadata": {
    "collapsed": false
   },
   "outputs": [
    {
     "data": {
      "text/plain": [
       "[(23, 122), (47, 69), (34, 69), (56, 21)]"
      ]
     },
     "execution_count": 65,
     "metadata": {},
     "output_type": "execute_result"
    }
   ],
   "source": [
    "sorted_list = list(reversed(reverse_list))\n",
    "sorted_list"
   ]
  },
  {
   "cell_type": "code",
   "execution_count": 66,
   "metadata": {
    "collapsed": false
   },
   "outputs": [],
   "source": [
    "import sys\n",
    "previous_score = -sys.maxint-1\n",
    "\n",
    "rank_val = 0\n",
    "\n",
    "result = []\n",
    "final_result = []"
   ]
  },
  {
   "cell_type": "code",
   "execution_count": 67,
   "metadata": {
    "collapsed": false
   },
   "outputs": [
    {
     "data": {
      "text/plain": [
       "[[23, 1], [47, 2], [34, 2], [56, 3]]"
      ]
     },
     "execution_count": 67,
     "metadata": {},
     "output_type": "execute_result"
    }
   ],
   "source": [
    "for i in sorted_list:\n",
    "    if i[1] == previous_score:\n",
    "        final_result.append([i[0],rank_val])\n",
    "        previous_score = i[1]\n",
    "    else:\n",
    "        rank_val = rank_val + 1\n",
    "        final_result.append([i[0],rank_val])\n",
    "        previous_score = i[1]\n",
    "final_result"
   ]
  },
  {
   "cell_type": "code",
   "execution_count": 18,
   "metadata": {
    "collapsed": false
   },
   "outputs": [
    {
     "name": "stdout",
     "output_type": "stream",
     "text": [
      "4 1\n"
     ]
    }
   ],
   "source": [
    "inp_values = raw_input()\n",
    "inp_list = inp_values.split(\" \")"
   ]
  },
  {
   "cell_type": "code",
   "execution_count": 19,
   "metadata": {
    "collapsed": false
   },
   "outputs": [
    {
     "data": {
      "text/plain": [
       "['4', '1']"
      ]
     },
     "execution_count": 19,
     "metadata": {},
     "output_type": "execute_result"
    }
   ],
   "source": [
    "inp_list"
   ]
  },
  {
   "cell_type": "code",
   "execution_count": 29,
   "metadata": {
    "collapsed": false
   },
   "outputs": [
    {
     "name": "stdout",
     "output_type": "stream",
     "text": [
      "1\n",
      "0\n"
     ]
    }
   ],
   "source": [
    "for i in range(len(inp_list)-1, -1, -1):\n",
    "    print i"
   ]
  },
  {
   "cell_type": "code",
   "execution_count": 42,
   "metadata": {
    "collapsed": false
   },
   "outputs": [
    {
     "name": "stdout",
     "output_type": "stream",
     "text": [
      "10\n",
      "2 3 4 5 6 8 7 6 5 18\n"
     ]
    }
   ],
   "source": [
    "x = input()\n",
    "size_list = []\n",
    "size_list = raw_input().split(' ')\n",
    "for i in range(len(size_list)):\n",
    "    size_list[i] = int(size_list[i])\n",
    "from collections import Counter\n",
    "dict_size = dict(Counter(size_list))\n",
    "\n",
    "customer_list = []\n",
    "y = input()\n",
    "for i in range(y):\n",
    "    customer_list.append(raw_input())\n",
    "for i in range(len(customer_list)):\n",
    "    customer_list[i] = customer_list[i].split(\" \")\n",
    "    for j in range(len(customer_list[i])):\n",
    "        customer_list[i][j] = int(customer_list[i][j])\n",
    "result = 0\n",
    "for i in range(len(customer_list)):\n",
    "    if customer_list[i][0] in dict_size:\n",
    "        if dict_size[customer_list[i][0]] > 0:\n",
    "            result = result + customer_list[i][1]\n",
    "            dict_size[customer_list[i][0]] = dict_size[customer_list[i][0]] - 1\n",
    "        else:\n",
    "            continue\n",
    "    else:\n",
    "        continue\n",
    "print result"
   ]
  },
  {
   "cell_type": "code",
   "execution_count": 51,
   "metadata": {
    "collapsed": false
   },
   "outputs": [
    {
     "name": "stdout",
     "output_type": "stream",
     "text": [
      "5 2\n"
     ]
    }
   ],
   "source": [
    "x = raw_input()\n",
    "m_n_list = x.split(\" \")"
   ]
  },
  {
   "cell_type": "code",
   "execution_count": 52,
   "metadata": {
    "collapsed": true
   },
   "outputs": [],
   "source": [
    "for i in range(len(m_n_list)):\n",
    "    m_n_list[i] = int(m_n_list[i])"
   ]
  },
  {
   "cell_type": "code",
   "execution_count": 66,
   "metadata": {
    "collapsed": false
   },
   "outputs": [
    {
     "name": "stdout",
     "output_type": "stream",
     "text": [
      "a\n",
      "a\n",
      "b\n",
      "a\n",
      "b\n"
     ]
    }
   ],
   "source": [
    "from collections import defaultdict\n",
    "\n",
    "group_a = []\n",
    "for i in range(m_n_list[0]):\n",
    "    group_a.append(raw_input())"
   ]
  },
  {
   "cell_type": "code",
   "execution_count": 67,
   "metadata": {
    "collapsed": false
   },
   "outputs": [
    {
     "name": "stdout",
     "output_type": "stream",
     "text": [
      "a\n",
      "b\n"
     ]
    }
   ],
   "source": [
    "group_b = []\n",
    "for i in range(m_n_list[1]):\n",
    "    group_b.append(raw_input())"
   ]
  },
  {
   "cell_type": "code",
   "execution_count": 79,
   "metadata": {
    "collapsed": false
   },
   "outputs": [
    {
     "name": "stdout",
     "output_type": "stream",
     "text": [
      "('a', [1, 2, 4])\n",
      "('b', [3, 5])\n"
     ]
    }
   ],
   "source": [
    "group_a_dict = defaultdict(list)\n",
    "for i in range(len(group_a)):\n",
    "    group_a_dict[group_a[i]].append(i+1)\n",
    "for i in group_a_dict.items():\n",
    "    print i"
   ]
  },
  {
   "cell_type": "code",
   "execution_count": null,
   "metadata": {
    "collapsed": true
   },
   "outputs": [],
   "source": [
    "group_b = defaultdict(list)\n",
    "for i range(m_n_list[1]):\n",
    "    group_b.append(input())\n",
    "\n",
    "for i in range(m_n_list[1]):\n",
    "    print group_a"
   ]
  },
  {
   "cell_type": "code",
   "execution_count": 18,
   "metadata": {
    "collapsed": false
   },
   "outputs": [
    {
     "name": "stdout",
     "output_type": "stream",
     "text": [
      "4\n",
      "5 4 3 2\n",
      "2 3 3 4 4 5\n"
     ]
    }
   ],
   "source": [
    "import sys\n",
    "\n",
    "def flattenArr(arr):\n",
    "    resultArr = []\n",
    "    for i in range(len(arr)):\n",
    "        for j in range(len(arr[i])):\n",
    "            resultArr.append(arr[i][j])\n",
    "    return sorted(resultArr)\n",
    "    \n",
    "def closestNumbers(arr):\n",
    "    # Complete this function\n",
    "    diff_val = 0\n",
    "    diff_min = sys.maxint\n",
    "    result_arr = []\n",
    "    min_val = 0\n",
    "    max_val = 0\n",
    "    result_list = []\n",
    "    \n",
    "    for i in range(len(arr)-1):\n",
    "        for j in range(len(arr)):\n",
    "            if i == j:\n",
    "                continue\n",
    "            else:\n",
    "                diff_val = abs(arr[i]-arr[j])\n",
    "                if diff_val <= diff_min:\n",
    "                    diff_min = diff_val\n",
    "    for i in range(len(arr)-1):\n",
    "        for j in range(len(arr)):\n",
    "            if i == j:\n",
    "                continue\n",
    "            else:\n",
    "                if abs(arr[i]-arr[j]) == diff_min:\n",
    "                    min_val = min(arr[i],arr[j])\n",
    "                    max_val = max(arr[i],arr[j])\n",
    "                    if (min_val,max_val) not in result_arr:\n",
    "                        result_arr.append((min_val,max_val))\n",
    "    return flattenArr(result_arr)\n",
    "    \n",
    "\n",
    "if __name__ == \"__main__\":\n",
    "    n = int(raw_input().strip())\n",
    "    arr = map(int, raw_input().strip().split(' '))\n",
    "    result = closestNumbers(arr)\n",
    "    print \" \".join(map(str, result))"
   ]
  },
  {
   "cell_type": "code",
   "execution_count": 13,
   "metadata": {
    "collapsed": false
   },
   "outputs": [
    {
     "name": "stdout",
     "output_type": "stream",
     "text": [
      "[2, 3, 3, 4, 4, 5]\n"
     ]
    }
   ],
   "source": [
    "def flattenArr(arr):\n",
    "    resultArr = []\n",
    "    for i in range(len(arr)):\n",
    "        for j in range(len(arr[i])):\n",
    "            resultArr.append(arr[i][j])\n",
    "    return sorted(resultArr)\n",
    "a = [(4,5),(3,4),(2,3)]\n",
    "print flattenArr(a)"
   ]
  },
  {
   "cell_type": "code",
   "execution_count": 23,
   "metadata": {
    "collapsed": false
   },
   "outputs": [],
   "source": [
    "from collections import Counter\n",
    "def topKFrequent(a,b):\n",
    "    dict_a = dict(Counter(a))\n",
    "    value_list = []\n",
    "    top_b = []\n",
    "    result = []\n",
    "    for i in dict_a.itervalues():\n",
    "        value_list.append(i)\n",
    "    sorted(value_list)\n",
    "    for i in range(b):\n",
    "        top_b.append(value_list[i])\n",
    "    for i in range(top_b):\n",
    "        for j in dict_a.iterkeys():\n",
    "            if dict_a[j] == top_b[i]:\n",
    "                result.append(j)\n",
    "                break"
   ]
  },
  {
   "cell_type": "code",
   "execution_count": 25,
   "metadata": {
    "collapsed": false
   },
   "outputs": [
    {
     "name": "stdout",
     "output_type": "stream",
     "text": [
      "[1, 2]\n"
     ]
    }
   ],
   "source": [
    "a = [4,1,-1,2,-1,2,3]\n",
    "b = 2\n",
    "print topKFrequent(a, b)"
   ]
  },
  {
   "cell_type": "code",
   "execution_count": 30,
   "metadata": {
    "collapsed": false
   },
   "outputs": [
    {
     "name": "stdout",
     "output_type": "stream",
     "text": [
      "1\n",
      "2\n",
      "1\n",
      "1\n",
      "2\n"
     ]
    }
   ],
   "source": [
    "from collections import Counter\n",
    "a = [4,1,-1,2,-1,2,3]\n",
    "dict_a = dict(Counter(a))\n",
    "for i in dict_a.itervalues():\n",
    "    print i"
   ]
  },
  {
   "cell_type": "code",
   "execution_count": 68,
   "metadata": {
    "collapsed": false
   },
   "outputs": [
    {
     "name": "stdout",
     "output_type": "stream",
     "text": [
      "[1, 2, 3, 4, 5, 6, 7, 8, 10, 11]\n"
     ]
    }
   ],
   "source": [
    "class Solution(object):\n",
    "    def topKFrequent(nums, k):\n",
    "        from collections import Counter\n",
    "        nums_dict = dict(Counter(nums))\n",
    "        count_list = []\n",
    "        for value in nums_dict.values():\n",
    "            count_list.append(value)\n",
    "        count_list.sort(reverse=True)\n",
    "        result = []\n",
    "        for i in range(len(count_list)):\n",
    "            for key in nums_dict.keys():\n",
    "                if nums_dict[key] == count_list[i]:\n",
    "                    result.append(key)\n",
    "                    k=k-1\n",
    "                else:\n",
    "                    continue\n",
    "                if k>0:\n",
    "                    continue\n",
    "                else:\n",
    "                    break\n",
    "            if k>0:\n",
    "                continue\n",
    "            else:\n",
    "                break\n",
    "        return result\n",
    "        \n",
    "nums = [3,2,3,1,2,4,5,5,6,7,7,8,2,3,1,1,1,10,11,5,6,2,4,7,8,5,6]\n",
    "k = 10\n",
    "print topKFrequent(nums,k)"
   ]
  },
  {
   "cell_type": "code",
   "execution_count": 76,
   "metadata": {
    "collapsed": true
   },
   "outputs": [],
   "source": [
    "language_set = {'Chinese'}"
   ]
  },
  {
   "cell_type": "code",
   "execution_count": 77,
   "metadata": {
    "collapsed": false
   },
   "outputs": [],
   "source": [
    "language_set.add('Japanese')"
   ]
  },
  {
   "cell_type": "code",
   "execution_count": 78,
   "metadata": {
    "collapsed": false
   },
   "outputs": [
    {
     "data": {
      "text/plain": [
       "{'Chinese', 'Japanese'}"
      ]
     },
     "execution_count": 78,
     "metadata": {},
     "output_type": "execute_result"
    }
   ],
   "source": [
    "language_set"
   ]
  },
  {
   "cell_type": "code",
   "execution_count": 79,
   "metadata": {
    "collapsed": false
   },
   "outputs": [
    {
     "data": {
      "text/plain": [
       "'Japanese'"
      ]
     },
     "execution_count": 79,
     "metadata": {},
     "output_type": "execute_result"
    }
   ],
   "source": [
    "language_set.pop()"
   ]
  },
  {
   "cell_type": "code",
   "execution_count": 16,
   "metadata": {
    "collapsed": true
   },
   "outputs": [],
   "source": [
    "a = ((1,2,3),(4,5,6))\n",
    "b = (4,5,6)"
   ]
  },
  {
   "cell_type": "code",
   "execution_count": 17,
   "metadata": {
    "collapsed": false
   },
   "outputs": [
    {
     "name": "stdout",
     "output_type": "stream",
     "text": [
      "[1, 2, 3, 4, 5, 6]\n"
     ]
    }
   ],
   "source": [
    "import itertools\n",
    "chain = list(itertools.chain(*a))\n",
    "print chain"
   ]
  },
  {
   "cell_type": "code",
   "execution_count": 17,
   "metadata": {
    "collapsed": false
   },
   "outputs": [
    {
     "data": {
      "text/plain": [
       "[[1, 'Mani', 45, 1],\n",
       " [2, 'Adi', 64, 4],\n",
       " [3, 'Prasanna', 85, 3],\n",
       " [4, 'Daggu', 92, 2],\n",
       " [1, 'Mani', 62, 1]]"
      ]
     },
     "execution_count": 17,
     "metadata": {},
     "output_type": "execute_result"
    }
   ],
   "source": [
    "a = [[1,'Mani',45,],[2,'Adi',64,],[3,'Prasanna',85,],[4,'Daggu',92,],[1,'Mani',62,]]\n",
    "total_score_dict = {}\n",
    "score = 0\n",
    "for i in range(len(a)):\n",
    "    if a[i][0] in total_score_dict:\n",
    "        score = total_score_dict[a[i][0]] + a[i][2]\n",
    "        total_score_dict[a[i][0]] = score\n",
    "    else:\n",
    "        total_score_dict[a[i][0]] = a[i][2]\n",
    "\n",
    "from collections import Counter\n",
    "score_list = list(Counter(total_score_dict.values()))\n",
    "score_list.sort(reverse=True)\n",
    "curr_val = 0\n",
    "curr_rank = 0\n",
    "rank_dict = {}\n",
    "for i in range(len(score_list)):\n",
    "    curr_val = score_list[i]\n",
    "    curr_rank=curr_rank+1\n",
    "    for key in total_score_dict.keys():\n",
    "        if total_score_dict[key] == curr_val:\n",
    "            rank_dict[key] = curr_rank\n",
    "        else:\n",
    "            continue\n",
    "\n",
    "for i in range(len(a)):\n",
    "    a[i].append(rank_dict[a[i][0]])\n",
    "\n",
    "a"
   ]
  },
  {
   "cell_type": "code",
   "execution_count": 27,
   "metadata": {
    "collapsed": false
   },
   "outputs": [
    {
     "name": "stdout",
     "output_type": "stream",
     "text": [
      "['1', '2', '4', '5']\n"
     ]
    },
    {
     "data": {
      "text/plain": [
       "{'five': '5', 'four': '4', 'one': '1', 'two': '2'}"
      ]
     },
     "execution_count": 27,
     "metadata": {},
     "output_type": "execute_result"
    }
   ],
   "source": [
    "myDictionary={\"two\":\"2\", \"one\":\"1\", \"five\":\"5\", \"four\":\"4\"}\n",
    "\n",
    "newDictionary={}\n",
    "\n",
    "sortedList=sorted(myDictionary.values())\n",
    "\n",
    "print sortedList\n",
    "\n",
    "for sortedKey in sortedList:\n",
    "    for key, value in myDictionary.items():\n",
    "        if value==sortedKey:\n",
    "            newDictionary[key]=value\n",
    "newDictionary"
   ]
  },
  {
   "cell_type": "code",
   "execution_count": 28,
   "metadata": {
    "collapsed": false
   },
   "outputs": [
    {
     "name": "stdout",
     "output_type": "stream",
     "text": [
      "4\n",
      "5\n",
      "2\n",
      "1\n"
     ]
    }
   ],
   "source": [
    "for key in newDictionary.values():\n",
    "    print key"
   ]
  },
  {
   "cell_type": "code",
   "execution_count": null,
   "metadata": {
    "collapsed": true
   },
   "outputs": [],
   "source": []
  }
 ],
 "metadata": {
  "kernelspec": {
   "display_name": "Python 2",
   "language": "python",
   "name": "python2"
  },
  "language_info": {
   "codemirror_mode": {
    "name": "ipython",
    "version": 2
   },
   "file_extension": ".py",
   "mimetype": "text/x-python",
   "name": "python",
   "nbconvert_exporter": "python",
   "pygments_lexer": "ipython2",
   "version": "2.7.13"
  }
 },
 "nbformat": 4,
 "nbformat_minor": 2
}
