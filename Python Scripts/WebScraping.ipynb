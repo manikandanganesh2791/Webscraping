{
 "cells": [
  {
   "cell_type": "code",
   "execution_count": 13,
   "metadata": {
    "collapsed": false
   },
   "outputs": [],
   "source": [
    "import requests\n",
    "from bs4 import BeautifulSoup\n",
    "session = requests.Session()"
   ]
  },
  {
   "cell_type": "code",
   "execution_count": 23,
   "metadata": {
    "collapsed": false
   },
   "outputs": [],
   "source": [
    "r = requests.get(\"http://www.autotrader.com\")"
   ]
  },
  {
   "cell_type": "code",
   "execution_count": 24,
   "metadata": {
    "collapsed": false
   },
   "outputs": [
    {
     "data": {
      "text/plain": [
       "'<!DOCTYPE html>\\n<html xmlns=\"http://www.w3.org/1999/xhtml\" xml:lang=\"en\" lang=\"en\">\\n<head>\\n    <title>Autotrader - page unavailable</title>\\n    <meta name=\"viewport\" content=\"width=device-width, initial-scale=1\">\\n    <link rel=\"stylesheet\" href=\"https://maxcdn.bootstrapcdn.com/bootstrap/3.3.6/css/bootstrap.min.css\" integrity=\"sha384-1q8mTJOASx8j1Au+a5WDVnPi2lkFfwwEAa8hDDdjZlpLegxhjVME1fgjWPGmkzs7\" crossorigin=\"anonymous\">\\n    <link href=\\'https://fonts.googleapis.com/css?family=Roboto:400,700\\' rel=\\'stylesheet\\' type=\\'text/css\\'>\\n    <link href=\"/akamai-block/block-images/css/app.css\" rel=\"stylesheet\" type=\"text/css\">\\n\\n    <style type=\"text/css\">\\n\\n    </style>\\n</head>\\n<body>\\n<div class=\"atc-header-background\">\\n    <div class=\"container\">\\n        <img src=\"/akamai-block/block-images/autotrader-logo-blue.png\" class=\"autotrader-logo\" alt=\"Buy New or Used Cars at Autotrader\" onError=\"this.onerror=null;this.src=\\'./block-images/autotrader-logo-blue.png\\';\">\\n    </div>\\n</div>\\n<div id=\"atcui-navigation-container-wrapper\"></div>\\n<div class=\"body-content container\">\\n    <img src=\"/akamai-block/block-images/error-message-icon.png\" alt=\"\" onError=\"this.onerror=null;this.src=\\'./block-images/error-message-icon.png\\';\">\\n\\n    <h1>We\\'re sorry for any inconvenience, but the site is currently unavailable.</h1>\\n    <div id=\"message\">Please <a href=\"#\">contact our support team</a> for help.</div>\\n    <div id=\"contactform\">\\n        <div class=\"col-md-4 col-md-offset-4\">\\n            <form data-toggle=\"validator\" data-testcaptcha=\"g-recaptcha-response\" role=\"form\" id=\"atcform\" >\\n                <div class=\"form-group\">\\n                    <input type=\"text\" class=\"form-control\" id=\"inputName\" name=\"name\" placeholder=\"Your Name\" >\\n                </div>\\n                <div class=\"form-group\">\\n                    <input type=\"email\" class=\"form-control\" id=\"inputEmail\" name=\"email\" placeholder=\"Email\" data-error=\"Email address is invalid\" pattern=\"[a-z0-9._%+-]+@[a-z0-9.-]+\\\\.[a-z]{2,63}$\"  required>\\n                    <div class=\"help-block with-errors\"></div>\\n                </div>\\n                <div class=\"form-group\">\\n                    <textarea class=\"form-control\" rows=\"3\" id=\"inputComments\" name=\"comments\" placeholder=\"Comments\"></textarea>\\n                </div>\\n                <div class=\"form-group\">\\n                <div  class=\"capatcha\"><div id=\"botbuster\" class=\"g-recaptcha\" data-callback=\"onCapPass\"></div></div>\\n                    </div>\\n                <div class=\"form-group\">\\n                    <button type=\"submit\" id=\"formsubmitbtn\" class=\"btn btn-primary\">Submit</button>\\n                    </div>\\n            </form>\\n        </div>\\n    </div>\\n\\n    <div id=\"successmessage\" style=\"display: none;\">\\n        <div class=\"row\">\\n\\n            <div class=\"alert alert-success\" role=\"alert\"> <strong>Thank you!</strong> Our engineers will investigate your issue. </div>\\n\\n        </div>\\n    </div>\\n\\n    <div id=\"incidentid\" >\\n        <div>\\n            <p>\\n                <span>\\n                  Incident Number: 18.f781bb8.1519430861.80a242e\\n                </span>\\n            <p>\\n        </div>\\n    </div>\\n</div>\\n\\n<script src=\"https://ajax.googleapis.com/ajax/libs/jquery/2.2.0/jquery.min.js\"></script>\\n<script src=\"https://maxcdn.bootstrapcdn.com/bootstrap/3.3.6/js/bootstrap.min.js\" integrity=\"sha384-0mSbJDEHialfmuBBQP6A4Qrprq5OVfW37PRR3j5ELqxss1yVqOtnepnHVP9aJ7xS\" crossorigin=\"anonymous\"></script>\\n<script src=\"https://www.google.com/recaptcha/api.js?render=explicit\" async defer></script>\\n<script src=\"/akamai-block/block-images/js/validator.js\"></script>\\n<script src=\"/akamai-block/block-images/js/jquery.serialize-object.min.js\"></script>\\n<script src=\"/akamai-block/block-images/js/app.js\"></script>\\n\\n</body>\\n</html>'"
      ]
     },
     "execution_count": 24,
     "metadata": {},
     "output_type": "execute_result"
    }
   ],
   "source": [
    "r.content"
   ]
  },
  {
   "cell_type": "code",
   "execution_count": 7,
   "metadata": {
    "collapsed": false
   },
   "outputs": [
    {
     "ename": "NameError",
     "evalue": "name 'soup' is not defined",
     "output_type": "error",
     "traceback": [
      "\u001b[0;31m---------------------------------------------------------------------------\u001b[0m",
      "\u001b[0;31mNameError\u001b[0m                                 Traceback (most recent call last)",
      "\u001b[0;32m<ipython-input-7-6e747ad631ca>\u001b[0m in \u001b[0;36m<module>\u001b[0;34m()\u001b[0m\n\u001b[0;32m----> 1\u001b[0;31m \u001b[0mpage_soup\u001b[0m \u001b[1;33m=\u001b[0m \u001b[0msoup\u001b[0m\u001b[1;33m(\u001b[0m\u001b[0mwebpage\u001b[0m\u001b[1;33m,\u001b[0m \u001b[1;34m\"html.parser\"\u001b[0m\u001b[1;33m)\u001b[0m\u001b[1;33m\u001b[0m\u001b[0m\n\u001b[0m\u001b[1;32m      2\u001b[0m \u001b[0mpage_soup\u001b[0m\u001b[1;33m\u001b[0m\u001b[0m\n",
      "\u001b[0;31mNameError\u001b[0m: name 'soup' is not defined"
     ]
    }
   ],
   "source": [
    "page_soup = soup(webpage, \"html.parser\")\n",
    "page_soup"
   ]
  },
  {
   "cell_type": "code",
   "execution_count": 37,
   "metadata": {
    "collapsed": false
   },
   "outputs": [
    {
     "name": "stdout",
     "output_type": "stream",
     "text": [
      "<class 'bs4.BeautifulSoup'>\n"
     ]
    }
   ],
   "source": [
    "\n",
    "import urllib\n",
    "r = urllib.urlopen().read()\n",
    "soup = BeautifulSoup(r, 'html.parser')\n",
    "print type(soup)"
   ]
  },
  {
   "cell_type": "code",
   "execution_count": 40,
   "metadata": {
    "collapsed": false
   },
   "outputs": [
    {
     "name": "stdout",
     "output_type": "stream",
     "text": [
      "<!DOCTYPE html>\n",
      "<html lang=\"en\" xml:lang=\"en\" xmlns=\"http://www.w3.org/1999/xhtml\">\n",
      " <head>\n",
      "  <title>\n",
      "   Autotrader - page unavailable\n",
      "  </title>\n",
      "  <meta content=\"width=device-width, initial-scale=1\" name=\"viewport\">\n",
      "   <link crossorigin=\"anonymous\" href=\"https://maxcdn.bootstrapcdn.com/bootstrap/3.3.6/css/bootstrap.min.css\" integrity=\"sha384-1q8mTJOASx8j1Au+a5WDVnPi2lkFfwwEAa8hDDdjZlpLegxhjVME1fgjWPGmkzs7\" rel=\"stylesheet\">\n",
      "    <link href=\"https://fonts.googleapis.com/css?family=Roboto:400,700\" rel=\"stylesheet\" type=\"text/css\">\n",
      "     <link href=\"/akamai-block/block-images/css/app.css\" rel=\"stylesheet\" type=\"text/css\">\n",
      "      <style type=\"text/css\">\n",
      "      </style>\n",
      "     </link>\n",
      "    </link>\n",
      "   </link>\n",
      "  </meta>\n",
      " </head>\n",
      " <body>\n",
      "  <div class=\"atc-header-background\">\n",
      "   <div class=\"container\">\n",
      "    <img alt=\"Buy New or Used Cars at Autotrader\" class=\"autotrader-logo\" onerror=\"this.onerror=null;this.src='./block-images/autotrader-logo-blue.png';\" src=\"/akamai-block/block-images/autotrader-logo\n"
     ]
    }
   ],
   "source": [
    "print soup.prettify()[0:1000]"
   ]
  },
  {
   "cell_type": "code",
   "execution_count": 32,
   "metadata": {
    "collapsed": true
   },
   "outputs": [],
   "source": [
    "import urllib2\n",
    "from bs4 import BeautifulSoup"
   ]
  },
  {
   "cell_type": "code",
   "execution_count": 33,
   "metadata": {
    "collapsed": true
   },
   "outputs": [],
   "source": [
    "page = urllib2.urlopen(web_page)"
   ]
  },
  {
   "cell_type": "code",
   "execution_count": 34,
   "metadata": {
    "collapsed": false
   },
   "outputs": [],
   "source": [
    "soup = BeautifulSoup(page, 'html.parser')"
   ]
  },
  {
   "cell_type": "code",
   "execution_count": 35,
   "metadata": {
    "collapsed": false
   },
   "outputs": [
    {
     "data": {
      "text/plain": [
       "<!DOCTYPE html>\\n\\n<html lang=\"en\" xml:lang=\"en\" xmlns=\"http://www.w3.org/1999/xhtml\">\\n<head>\\n<title>Autotrader - page unavailable</title>\\n<meta content=\"width=device-width, initial-scale=1\" name=\"viewport\">\\n<link crossorigin=\"anonymous\" href=\"https://maxcdn.bootstrapcdn.com/bootstrap/3.3.6/css/bootstrap.min.css\" integrity=\"sha384-1q8mTJOASx8j1Au+a5WDVnPi2lkFfwwEAa8hDDdjZlpLegxhjVME1fgjWPGmkzs7\" rel=\"stylesheet\">\\n<link href=\"https://fonts.googleapis.com/css?family=Roboto:400,700\" rel=\"stylesheet\" type=\"text/css\">\\n<link href=\"/akamai-block/block-images/css/app.css\" rel=\"stylesheet\" type=\"text/css\">\\n<style type=\"text/css\">\\n</style>\\n</link></link></link></meta></head>\\n<body>\\n<div class=\"atc-header-background\">\\n<div class=\"container\">\\n<img alt=\"Buy New or Used Cars at Autotrader\" class=\"autotrader-logo\" onerror=\"this.onerror=null;this.src='./block-images/autotrader-logo-blue.png';\" src=\"/akamai-block/block-images/autotrader-logo-blue.png\">\\n</img></div>\\n</div>\\n<div id=\"atcui-navigation-container-wrapper\"></div>\\n<div class=\"body-content container\">\\n<img alt=\"\" onerror=\"this.onerror=null;this.src='./block-images/error-message-icon.png';\" src=\"/akamai-block/block-images/error-message-icon.png\">\\n<h1>We're sorry for any inconvenience, but the site is currently unavailable.</h1>\\n<div id=\"message\">Please <a href=\"#\">contact our support team</a> for help.</div>\\n<div id=\"contactform\">\\n<div class=\"col-md-4 col-md-offset-4\">\\n<form data-testcaptcha=\"g-recaptcha-response\" data-toggle=\"validator\" id=\"atcform\" role=\"form\">\\n<div class=\"form-group\">\\n<input class=\"form-control\" id=\"inputName\" name=\"name\" placeholder=\"Your Name\" type=\"text\">\\n</input></div>\\n<div class=\"form-group\">\\n<input class=\"form-control\" data-error=\"Email address is invalid\" id=\"inputEmail\" name=\"email\" pattern=\"[a-z0-9._%+-]+@[a-z0-9.-]+\\\\.[a-z]{2,63}$\" placeholder=\"Email\" required=\"\" type=\"email\">\\n<div class=\"help-block with-errors\"></div>\\n</input></div>\\n<div class=\"form-group\">\\n<textarea class=\"form-control\" id=\"inputComments\" name=\"comments\" placeholder=\"Comments\" rows=\"3\"></textarea>\\n</div>\\n<div class=\"form-group\">\\n<div class=\"capatcha\"><div class=\"g-recaptcha\" data-callback=\"onCapPass\" id=\"botbuster\"></div></div>\\n</div>\\n<div class=\"form-group\">\\n<button class=\"btn btn-primary\" id=\"formsubmitbtn\" type=\"submit\">Submit</button>\\n</div>\\n</form>\\n</div>\\n</div>\\n<div id=\"successmessage\" style=\"display: none;\">\\n<div class=\"row\">\\n<div class=\"alert alert-success\" role=\"alert\"> <strong>Thank you!</strong> Our engineers will investigate your issue. </div>\\n</div>\\n</div>\\n<div id=\"incidentid\">\\n<div>\\n<p>\\n<span>\\n                  Incident Number: 18.11781bb8.1519077269.13d232e1\\n                </span>\\n<p>\\n</p></p></div>\\n</div>\\n</img></div>\\n<script src=\"https://ajax.googleapis.com/ajax/libs/jquery/2.2.0/jquery.min.js\"></script>\\n<script crossorigin=\"anonymous\" integrity=\"sha384-0mSbJDEHialfmuBBQP6A4Qrprq5OVfW37PRR3j5ELqxss1yVqOtnepnHVP9aJ7xS\" src=\"https://maxcdn.bootstrapcdn.com/bootstrap/3.3.6/js/bootstrap.min.js\"></script>\\n<script async=\"\" defer=\"\" src=\"https://www.google.com/recaptcha/api.js?render=explicit\"></script>\\n<script src=\"/akamai-block/block-images/js/validator.js\"></script>\\n<script src=\"/akamai-block/block-images/js/jquery.serialize-object.min.js\"></script>\\n<script src=\"/akamai-block/block-images/js/app.js\"></script>\\n</body>\\n</html>"
      ]
     },
     "execution_count": 35,
     "metadata": {},
     "output_type": "execute_result"
    }
   ],
   "source": [
    "soup"
   ]
  },
  {
   "cell_type": "code",
   "execution_count": 29,
   "metadata": {
    "collapsed": false
   },
   "outputs": [],
   "source": [
    "#name_box = soup.find('div', attrs={'id': 'j_id_6u-j_id_2p1-j_id_2ql-0-j_id_2qp-j_id_2qr'})\n",
    "\n",
    "mydivs = soup.findAll(\"div\", {\"class\": \"dealer-listing\"})\n"
   ]
  },
  {
   "cell_type": "code",
   "execution_count": 30,
   "metadata": {
    "collapsed": false
   },
   "outputs": [
    {
     "data": {
      "text/plain": [
       "[]"
      ]
     },
     "execution_count": 30,
     "metadata": {},
     "output_type": "execute_result"
    }
   ],
   "source": [
    "mydivs"
   ]
  },
  {
   "cell_type": "code",
   "execution_count": 28,
   "metadata": {
    "collapsed": false
   },
   "outputs": [
    {
     "ename": "AttributeError",
     "evalue": "'NoneType' object has no attribute 'text'",
     "output_type": "error",
     "traceback": [
      "\u001b[0;31m---------------------------------------------------------------------------\u001b[0m",
      "\u001b[0;31mAttributeError\u001b[0m                            Traceback (most recent call last)",
      "\u001b[0;32m<ipython-input-28-beeaaba15859>\u001b[0m in \u001b[0;36m<module>\u001b[0;34m()\u001b[0m\n\u001b[0;32m----> 1\u001b[0;31m \u001b[0mdealer_name\u001b[0m \u001b[1;33m=\u001b[0m \u001b[0mname_box\u001b[0m\u001b[1;33m.\u001b[0m\u001b[0mtext\u001b[0m\u001b[1;33m.\u001b[0m\u001b[0mstrip\u001b[0m\u001b[1;33m(\u001b[0m\u001b[1;33m)\u001b[0m\u001b[1;33m\u001b[0m\u001b[0m\n\u001b[0m",
      "\u001b[0;31mAttributeError\u001b[0m: 'NoneType' object has no attribute 'text'"
     ]
    }
   ],
   "source": [
    "dealer_name = name_box.text.strip()"
   ]
  },
  {
   "cell_type": "code",
   "execution_count": null,
   "metadata": {
    "collapsed": true
   },
   "outputs": [],
   "source": []
  }
 ],
 "metadata": {
  "kernelspec": {
   "display_name": "Python 2",
   "language": "python",
   "name": "python2"
  },
  "language_info": {
   "codemirror_mode": {
    "name": "ipython",
    "version": 2
   },
   "file_extension": ".py",
   "mimetype": "text/x-python",
   "name": "python",
   "nbconvert_exporter": "python",
   "pygments_lexer": "ipython2",
   "version": "2.7.13"
  }
 },
 "nbformat": 4,
 "nbformat_minor": 2
}
